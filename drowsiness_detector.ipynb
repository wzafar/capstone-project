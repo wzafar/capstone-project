{
 "cells": [
  {
   "cell_type": "code",
   "execution_count": 1,
   "metadata": {},
   "outputs": [],
   "source": [
    "from scipy.spatial import distance as dist\n",
    "from imutils.video import VideoStream\n",
    "from imutils import face_utils\n",
    "from threading import Thread\n",
    "import numpy as np\n",
    "from playsound import playsound\n",
    "import imutils\n",
    "import dlib\n",
    "import cv2\n",
    "import pandas as pd"
   ]
  },
  {
   "cell_type": "code",
   "execution_count": 2,
   "metadata": {},
   "outputs": [],
   "source": [
    "# Required Functions\n",
    "\n",
    "# function to calculate EAR\n",
    "def calc_ear(eye):\n",
    "    # calculate the horizontal distance\n",
    "    hor_dist = dist.euclidean(eye[0],eye[1])\n",
    "    \n",
    "    # calculate the 2 vertical distances and get their average\n",
    "    ver_dist1 = dist.euclidean(eye[2],eye[4])\n",
    "    ver_dist2 = dist.euclidean(eye[1],eye[5])\n",
    "    ver_dist = (ver_dist1 + ver_dist2)/2.0\n",
    "    \n",
    "    # calculate EAR: vertical distance divided by horizontal distance\n",
    "    ear = ver_dist/hor_dist\n",
    "    \n",
    "    return ear\n",
    "\n",
    "def play_alarm(path):\n",
    "    playsound(path)"
   ]
  },
  {
   "cell_type": "code",
   "execution_count": 3,
   "metadata": {},
   "outputs": [],
   "source": [
    "# Required Variables\n",
    "\n",
    "frame_counter = 0\n",
    "flag = False\n",
    "\n",
    "# experiment with these 2 values\n",
    "ear_thres = 0.5 # threshold for EAR below which the eyes are considered to be closed\n",
    "consec_frames = 10 # number of consecutive frames EAR must be below the EAR threshold in order to activate alarm"
   ]
  },
  {
   "cell_type": "code",
   "execution_count": 4,
   "metadata": {},
   "outputs": [],
   "source": [
    "# Load the face detector\n",
    "detector = dlib.get_frontal_face_detector()\n",
    "\n",
    "# Load the landmarks predictor to detect the landmarks\n",
    "predictor = dlib.shape_predictor('../shape_predictor_68_face_landmarks.dat')"
   ]
  },
  {
   "cell_type": "code",
   "execution_count": 5,
   "metadata": {},
   "outputs": [],
   "source": [
    "# capture frames from webcam/video stream\n",
    "#cap = cv2.VideoCapture(0)\n",
    "\n",
    "cap = cv2.VideoCapture('../data/videos/pranav.mp4')\n"
   ]
  },
  {
   "cell_type": "code",
   "execution_count": 6,
   "metadata": {},
   "outputs": [],
   "source": [
    "# Get the indexes of the facial landmarks for left and right eye\n",
    "(left_first, left_last) = face_utils.FACIAL_LANDMARKS_IDXS[\"left_eye\"]\n",
    "(right_first, right_last) = face_utils.FACIAL_LANDMARKS_IDXS[\"right_eye\"]"
   ]
  },
  {
   "cell_type": "code",
   "execution_count": 7,
   "metadata": {},
   "outputs": [],
   "source": [
    "ear_data = []\n",
    "isFlagged = []\n",
    "\n",
    "# Loop over the frames from video stream\n",
    "while(cap.isOpened()):\n",
    "    # read the frame\n",
    "    ret, frame = cap.read()\n",
    "    if(ret == True):\n",
    "        # convert to grayscale\n",
    "        gray = cv2.cvtColor(frame, cv2.COLOR_BGR2GRAY)\n",
    "        # detect the face\n",
    "        faces = detector(gray)\n",
    "\n",
    "        for face in faces:\n",
    "            # predict the facial landmarks for the face in the frame\n",
    "            shape = predictor(gray,face)\n",
    "            # convert facial landmark coordinates to a numpy array\n",
    "            shape = face_utils.shape_to_np(shape)\n",
    "            # extract the eye coordinates from the array of facial landmark coordinates\n",
    "            left_eye = shape[left_first:left_last]\n",
    "            right_eye = shape[right_first:right_last]\n",
    "            # compute EAR for each eye\n",
    "            left_ear = calc_ear(left_eye)\n",
    "            right_ear = calc_ear(right_eye)\n",
    "            # calculate the average EAR\n",
    "            ear = (left_ear + right_ear)/2.0\n",
    "\n",
    "            # draw the contours highlighting the eye regions\n",
    "            left_eye_hull = cv2.convexHull(left_eye)\n",
    "            right_eye_hull = cv2.convexHull(right_eye)\n",
    "            cv2.drawContours(frame, [left_eye_hull], -1, (0, 255, 0), 1)\n",
    "            cv2.drawContours(frame, [right_eye_hull], -1, (0, 255, 0), 1)\n",
    "\n",
    "            if ear < ear_thres:\n",
    "                frame_counter += 1\n",
    "\n",
    "                if frame_counter >= consec_frames:\n",
    "                    if not flag:\n",
    "                        flag = True\n",
    "                        # start a new thread to play the alarm simultaneously with the video feed (parallel processing)\n",
    "                        t = Thread(target=play_alarm , args=('../alarm_trimmed.mp3',))\n",
    "                        t.deamon = True\n",
    "                        t.start()\n",
    "\n",
    "                    # Display a visual warnning\n",
    "                    cv2.putText(frame, \"FALLING ASLEEP!\", (10, 30), cv2.FONT_HERSHEY_SIMPLEX, 0.7, (0, 0, 255), 2)\n",
    "\n",
    "            else:\n",
    "                frame_counter = 0\n",
    "                flag = False\n",
    "\n",
    "            isFlagged.append(flag)\n",
    "            ear_data.append(ear)\n",
    "\n",
    "            cv2.putText(frame, \"EAR: {:.2f}\".format(ear), (300, 30), cv2.FONT_HERSHEY_SIMPLEX, 0.7, (0, 0, 255), 2)\n",
    "\n",
    "        # show the frame\n",
    "        cv2.imshow(\"Frame\", frame)\n",
    "        key = cv2.waitKey(1) & 0xFF\n",
    "        if key == ord(\"q\"):\n",
    "            break\n",
    "    else:\n",
    "        break\n",
    "            \n",
    "cap.release()\n",
    "cv2.destroyAllWindows()"
   ]
  },
  {
   "cell_type": "code",
   "execution_count": 8,
   "metadata": {},
   "outputs": [],
   "source": [
    "# save the data\n",
    "data = pd.DataFrame(list(zip(ear_data,isFlagged)), columns = ['EAR','isFlagged'])\n",
    "data.to_csv('../data/gt/pranav_dd.csv')"
   ]
  },
  {
   "cell_type": "code",
   "execution_count": null,
   "metadata": {},
   "outputs": [],
   "source": []
  }
 ],
 "metadata": {
  "kernelspec": {
   "display_name": "Python 3",
   "language": "python",
   "name": "python3"
  },
  "language_info": {
   "codemirror_mode": {
    "name": "ipython",
    "version": 3
   },
   "file_extension": ".py",
   "mimetype": "text/x-python",
   "name": "python",
   "nbconvert_exporter": "python",
   "pygments_lexer": "ipython3",
   "version": "3.7.3"
  }
 },
 "nbformat": 4,
 "nbformat_minor": 2
}
